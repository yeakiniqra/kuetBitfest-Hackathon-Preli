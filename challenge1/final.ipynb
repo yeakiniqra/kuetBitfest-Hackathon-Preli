{
 "cells": [
  {
   "cell_type": "code",
   "execution_count": null,
   "metadata": {
    "vscode": {
     "languageId": "plaintext"
    }
   },
   "outputs": [],
   "source": [
    "from transformers import MBartForConditionalGeneration, MBart50TokenizerFast\n",
    "import torch\n",
    "\n",
    "model_name = \"facebook/mbart-large-50\"\n",
    "tokenizer = MBart50TokenizerFast.from_pretrained(model_name)\n",
    "model = MBartForConditionalGeneration.from_pretrained(model_name)\n",
    "\n",
    "print(\"Available Language Codes:\", tokenizer.lang_code_to_id)\n",
    "\n",
    "tokenizer.src_lang = \"en_XX\"  \n",
    "target_language_code = \"bn_IN\"  \n",
    "\n",
    "def transliterate_banglish_to_bengali(banglish_text):\n",
    "    banglish_text = f\"{tokenizer.src_lang} {banglish_text}\"\n",
    "    inputs = tokenizer(banglish_text, return_tensors=\"pt\", max_length=512, truncation=True)\n",
    "    with torch.no_grad():\n",
    "        outputs = model.generate(\n",
    "            **inputs,\n",
    "            forced_bos_token_id=tokenizer.lang_code_to_id[target_language_code]\n",
    "        )\n",
    "    \n",
    "    bengali_text = tokenizer.decode(outputs[0], skip_special_tokens=True)\n",
    "    \n",
    "    print(\"Inputs:\", inputs)\n",
    "    print(\"Model Outputs:\", outputs)\n",
    "    print(\"Decoded Bengali Text:\", bengali_text)\n",
    "    return bengali_text\n",
    "\n",
    "banglish_text = input(\"Enter Banglish Text: \")\n",
    "\n",
    "bengali_output = transliterate_banglish_to_bengali(banglish_text)\n",
    "print(f\"Input: {banglish_text}\")\n",
    "print(f\"Output: {bengali_output}\")\n"
   ]
  }
 ],
 "metadata": {
  "language_info": {
   "name": "python"
  }
 },
 "nbformat": 4,
 "nbformat_minor": 2
}
